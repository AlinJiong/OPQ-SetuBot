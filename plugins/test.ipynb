{
 "cells": [
  {
   "cell_type": "code",
   "execution_count": null,
   "metadata": {},
   "outputs": [],
   "source": [
    "import requests\n",
    "\n",
    "re = requests.get('http://api.wadg.pro/')\n",
    "\n",
    "print(re.status_code)\n",
    "print(re.text)"
   ]
  },
  {
   "cell_type": "code",
   "execution_count": 4,
   "metadata": {},
   "outputs": [],
   "source": [
    "import requests\n",
    "def updateExpireTime():\n",
    "    '''\n",
    "    延长token时间\n",
    "    '''\n",
    "    url = \"https://api.ityun.tech/api/updateExpireTime?token=e2d74a2b83b549248421dedd7e293e13&email=alinjiong@qq.com\"\n",
    "    headers = {'Content-Type': \"application/json\"}\n",
    "    res = requests.post(\n",
    "        url=url, headers=headers)\n",
    "    return res\n",
    "    \n",
    "res = updateExpireTime()\n"
   ]
  },
  {
   "cell_type": "code",
   "execution_count": 7,
   "metadata": {},
   "outputs": [
    {
     "name": "stdout",
     "output_type": "stream",
     "text": [
      "<Response [200]>\n",
      "{\"date\":\"2022-05-27T15:16:20.136+00:00\",\"code\":400,\"message\":\"有效期剩余大于30天，无法续期！\"}\n",
      "200\n"
     ]
    }
   ],
   "source": [
    "print(res)\n",
    "print(res.text)\n",
    "print(res.status_code)"
   ]
  },
  {
   "cell_type": "code",
   "execution_count": 5,
   "metadata": {},
   "outputs": [
    {
     "name": "stdout",
     "output_type": "stream",
     "text": [
      "ok\n"
     ]
    }
   ],
   "source": [
    "import re\n",
    "\n",
    "\n",
    "setuPattern = \"来(.*?)[点丶、个份张幅](.*?)的?([rR]18)?[色瑟涩䔼😍🐍][图圖🤮]|二[次刺][元猿]\"\n",
    "\n",
    "if re.match(setuPattern,\"二刺猿\"):\n",
    "    print(\"ok\")"
   ]
  },
  {
   "cell_type": "code",
   "execution_count": 10,
   "metadata": {},
   "outputs": [
    {
     "name": "stdout",
     "output_type": "stream",
     "text": [
      "{\n",
      "    \"data\": 200,\n",
      "    \"list\": [\n",
      "        {\n",
      "            \"name\": \"唱作人陈道明去世\",\n",
      "            \"hot\": 3936600,\n",
      "            \"url\": \"https://s.weibo.com/weibo?q=%23%E5%94%B1%E4%BD%9C%E4%BA%BA%E9%99%88%E9%81%93%E6%98%8E%E5%8E%BB%E4%B8%96%23&Refer=index\"\n",
      "        },\n",
      "        {\n",
      "            \"name\": \"反诈老陈致歉\",\n",
      "            \"hot\": 1926385,\n",
      "            \"url\": \"https://s.weibo.com/weibo?q=%23%E5%8F%8D%E8%AF%88%E8%80%81%E9%99%88%E8%87%B4%E6%AD%89%23&Refer=index\"\n",
      "        },\n",
      "        {\n",
      "            \"name\": \"属于毕业的BGM\",\n",
      "            \"hot\": 1496288,\n",
      "            \"url\": \"https://s.weibo.com/weibo?q=%23%E5%B1%9E%E4%BA%8E%E6%AF%95%E4%B8%9A%E7%9A%84BGM%23&Refer=index\"\n",
      "        },\n",
      "        {\n",
      "            \"name\": \"德普胜诉\",\n",
      "            \"hot\": 1426623,\n",
      "            \"url\": \"https://s.weibo.com/weibo?q=%23%E5%BE%B7%E6%99%AE%E8%83%9C%E8%AF%89%23&Refer=index\"\n",
      "        },\n",
      "        {\n",
      "            \"name\": \"上海新增本土确诊5例无症状8例\",\n",
      "            \"hot\": 1074793,\n",
      "            \"url\": \"https://s.weibo.com/weibo?q=%23%E4%B8%8A%E6%B5%B7%E6%96%B0%E5%A2%9E%E6%9C%AC%E5%9C%9F%E7%A1%AE%E8%AF%8A5%E4%BE%8B%E6%97%A0%E7%97%87%E7%8A%B68%E4%BE%8B%23&Refer=index\"\n",
      "        },\n",
      "        {\n",
      "            \"name\": \"RNG\",\n",
      "            \"hot\": 862651,\n",
      "            \"url\": \"https://s.weibo.com/weibo?q=%23RNG%23&Refer=index\"\n",
      "        },\n",
      "        {\n",
      "            \"name\": \"中国女排战胜荷兰女排\",\n",
      "            \"hot\": 672361,\n",
      "            \"url\": \"https://s.weibo.com/weibo?q=%23%E4%B8%AD%E5%9B%BD%E5%A5%B3%E6%8E%92%E6%88%98%E8%83%9C%E8%8D%B7%E5%85%B0%E5%A5%B3%E6%8E%92%23&Refer=index\"\n",
      "        },\n",
      "        {\n",
      "            \"name\": \"老师带网瘾少年去妈妈工地搬钢筋\",\n",
      "            \"hot\": 660760,\n",
      "            \"url\": \"https://s.weibo.com/weibo?q=%23%E8%80%81%E5%B8%88%E5%B8%A6%E7%BD%91%E7%98%BE%E5%B0%91%E5%B9%B4%E5%8E%BB%E5%A6%88%E5%A6%88%E5%B7%A5%E5%9C%B0%E6%90%AC%E9%92%A2%E7%AD%8B%23&Refer=index\"\n",
      "        },\n",
      "        {\n",
      "            \"name\": \"梦华录\",\n",
      "            \"hot\": 633432,\n",
      "            \"url\": \"https://s.weibo.com/weibo?q=%23%E6%A2%A6%E5%8D%8E%E5%BD%95%23&Refer=index\"\n",
      "        },\n",
      "        {\n",
      "            \"name\": \"芦山地震\",\n",
      "            \"hot\": 626870,\n",
      "            \"url\": \"https://s.weibo.com/weibo?q=%23%E8%8A%A6%E5%B1%B1%E5%9C%B0%E9%9C%87%23&Refer=index\"\n",
      "        }\n",
      "    ]\n",
      "}\n"
     ]
    }
   ],
   "source": [
    "import requests\n",
    "\n",
    "\n",
    "url = \"https://tenapi.cn/resou/\"\n",
    "\n",
    "r = requests.get(url='https://tenapi.cn/resou/', timeout=10)\n",
    "print(r.text)\n"
   ]
  },
  {
   "cell_type": "code",
   "execution_count": 11,
   "metadata": {},
   "outputs": [
    {
     "name": "stdout",
     "output_type": "stream",
     "text": [
      "{\"code\":200,\"msg\":\"success\",\"data\":[{\"hot_word\":\"郑州就120延误救治事件成立调查组\",\"hot_word_num\":2990682,\"url\":\"https:\\/\\/s.weibo.com\\/weibo?q=郑州就120延误救治事件成立调查组\"},{\"hot_word\":\"卫健委回应河大大三女生脑出血去世\",\"hot_word_num\":1890642,\"url\":\"https:\\/\\/s.weibo.com\\/weibo?q=卫健委回应河大大三女生脑出血去世\"},{\"hot_word\":\"航天员吃的蔬菜不需要土壤\",\"hot_word_num\":1466553,\"url\":\"https:\\/\\/s.weibo.com\\/weibo?q=航天员吃的蔬菜不需要土壤\"},{\"hot_word\":\"沈腾涂眼霜\",\"hot_word_num\":1236278,\"url\":\"https:\\/\\/s.weibo.com\\/weibo?q=沈腾涂眼霜\"},{\"hot_word\":\"刘洋\",\"hot_word_num\":1163802,\"url\":\"https:\\/\\/s.weibo.com\\/weibo?q=刘洋\"},{\"hot_word\":\"陈晓演技\",\"hot_word_num\":1133038,\"url\":\"https:\\/\\/s.weibo.com\\/weibo?q=陈晓演技\"},{\"hot_word\":\"珠海父母公积金可帮子女还房贷\",\"hot_word_num\":967634,\"url\":\"https:\\/\\/s.weibo.com\\/weibo?q=珠海父母公积金可帮子女还房贷\"},{\"hot_word\":\"梦华录播放量\",\"hot_word_num\":966580,\"url\":\"https:\\/\\/s.weibo.com\\/weibo?q=梦华录播放量\"},{\"hot_word\":\"湘潭一男子划龙舟被雷击中落水失联\",\"hot_word_num\":965270,\"url\":\"https:\\/\\/s.weibo.com\\/weibo?q=湘潭一男子划龙舟被雷击中落水失联\"},{\"hot_word\":\"睡够了真的可以自然瘦\",\"hot_word_num\":742328,\"url\":\"https:\\/\\/s.weibo.com\\/weibo?q=睡够了真的可以自然瘦\"}],\"time\":1654307960,\"log_id\":391529724649725952}\n"
     ]
    }
   ],
   "source": [
    "\n",
    "import requests\n",
    "import json\n",
    "\n",
    "headers = {'User-Agent': 'Mozilla/5.0 (Windows NT 10.0; Win64; x64) AppleWebKit/537.36 (KHTML, like Gecko) Chrome/97.0.4692.71 Safari/537.36',\n",
    "           'Content-Type': \"application/x-www-form-urlencoded\"}\n",
    "\n",
    "\n",
    "url = \"https://v2.alapi.cn/api/new/wbtop\"\n",
    "\n",
    "payload = \"token=1jfSWghgtebOjpQi&num=10\"\n",
    "headers = {'Content-Type': \"application/x-www-form-urlencoded\"}\n",
    "\n",
    "response = requests.request(\"POST\", url, data=payload, headers=headers)\n",
    "\n",
    "print(response.text)\n"
   ]
  },
  {
   "cell_type": "code",
   "execution_count": 9,
   "metadata": {},
   "outputs": [
    {
     "name": "stdout",
     "output_type": "stream",
     "text": [
      "200\n"
     ]
    }
   ],
   "source": [
    "print(response.status_code)"
   ]
  },
  {
   "cell_type": "code",
   "execution_count": 10,
   "metadata": {},
   "outputs": [
    {
     "name": "stdout",
     "output_type": "stream",
     "text": [
      "{\"code\":200,\"msg\":\"success\",\"data\":{\"name\":\"知乎 ‧ 热榜\",\"last_update\":\"2022-06-04 09:55:01\",\"list\":[{\"title\":\"郑州市卫健委对网传 120 延误救治大学生一事展开调查，具体情况如何？\",\"link\":\"https:\\/\\/www.zhihu.com\\/question\\/535926669\",\"other\":\"2402 万热度\"},{\"title\":\"6 月 3 日珠海实行「一人购房全家帮」政策，此举具有哪些重大意义？\",\"link\":\"https:\\/\\/www.zhihu.com\\/question\\/535893339\",\"other\":\"1634 万热度\"},{\"title\":\"神舟十四号将于 6 月 5 日发射，你对即将执行任务的航天员陈冬、刘洋、蔡旭哲有哪些期待？\",\"link\":\"https:\\/\\/www.zhihu.com\\/question\\/535080938\",\"other\":\"1028 万热度\"},{\"title\":\"媒体报道称马斯克宣布特斯拉将裁员约 10%，裁员人数近 1 万人，并暂停全球招聘，哪些信息值得关注？\",\"link\":\"https:\\/\\/www.zhihu.com\\/question\\/535904670\",\"other\":\"483 万热度\"},{\"title\":\"俄罗斯公布第三阶段军事行动目标，包括控制尼古拉耶夫州、敖德萨州和哈尔科夫州，哪些信息值得关注？\",\"link\":\"https:\\/\\/www.zhihu.com\\/question\\/535949247\",\"other\":\"428 万热度\"},{\"title\":\"俄军士兵装死后迅速逃跑，靠演技躲过无人机轰炸，如何评价该士兵的反应？战场上还有哪些自保方法？\",\"link\":\"https:\\/\\/www.zhihu.com\\/question\\/535890103\",\"other\":\"422 万热度\"},{\"title\":\"公司的设计一个个都跟大爷似的，工作还没交代完，就说没时间做；交代完工作，不到最后一刻不给你做，怎么办？\",\"link\":\"https:\\/\\/www.zhihu.com\\/question\\/397227986\",\"other\":\"341 万热度\"},{\"title\":\"消息英伟达 RTX 30 显卡仍有大量库存，RTX 40 系列将延后发布，这会带来哪些影响？\",\"link\":\"https:\\/\\/www.zhihu.com\\/question\\/535481164\",\"other\":\"302 万热度\"},{\"title\":\"6 月 3 日青岛三个区全面取消住房限购，此举对当地楼市有何影响？\",\"link\":\"https:\\/\\/www.zhihu.com\\/question\\/535910218\",\"other\":\"257 万热度\"},{\"title\":\"媒体报道称，美国务院悄悄更新「美台关系论述」，加回「不支持『台独』」，释放了哪些信号？\",\"link\":\"https:\\/\\/www.zhihu.com\\/question\\/535901665\",\"other\":\"201 万热度\"},{\"title\":\"中国留学生在毕业典礼为南京大屠杀死难者发声，称「日本还欠他们一个道歉」，如何评价他的爱国行为？\",\"link\":\"https:\\/\\/www.zhihu.com\\/question\\/535901500\",\"other\":\"194 万热度\"},{\"title\":\"如何看待网传「上海普陀区一核酸采样点被砸」，涉事男子因寻衅滋事已被行政处罚，事件后续情况如何？\",\"link\":\"https:\\/\\/www.zhihu.com\\/question\\/535920607\",\"other\":\"186 万热度\"},{\"title\":\"如何看待广西全州检查发现新华字典及儿童读物存低俗化内容与配图，责令下架？还有哪些信息值得关注？\",\"link\":\"https:\\/\\/www.zhihu.com\\/question\\/535934652\",\"other\":\"172 万热度\"},{\"title\":\"刘亦菲时隔 16 年再演古装剧《梦华录》，她剧中的扮相怎么样？\",\"link\":\"https:\\/\\/www.zhihu.com\\/question\\/535047827\",\"other\":\"138 万热度\"},{\"title\":\"《觉醒年代》为什么能在年轻一代的爆红？是偶然还是必然？\",\"link\":\"https:\\/\\/www.zhihu.com\\/question\\/465811265\",\"other\":\"103 万热度\"},{\"title\":\"网传中国第三艘航母即将下水，它将带来哪些重大突破？\",\"link\":\"https:\\/\\/www.zhihu.com\\/question\\/529701503\",\"other\":\"94 万热度\"},{\"title\":\"律师每天都会遇到哪些无语的法律咨询？\",\"link\":\"https:\\/\\/www.zhihu.com\\/question\\/359952994\",\"other\":\"85 万热度\"},{\"title\":\"可口可乐公司的汽水秘方在中国是如何保密的?\",\"link\":\"https:\\/\\/www.zhihu.com\\/question\\/477754936\",\"other\":\"71 万热度\"},{\"title\":\"广西柳州 27 岁女子为借钱掐死同事，三次返回现场掠走财产并纵火掩盖罪行，还有哪些信息？\",\"link\":\"https:\\/\\/www.zhihu.com\\/question\\/535637313\",\"other\":\"54 万热度\"},{\"title\":\"RNG 官宣 Breathe 加入，该选手的加入对战队实力有何提升？\",\"link\":\"https:\\/\\/www.zhihu.com\\/question\\/535724536\",\"other\":\"46 万热度\"},{\"title\":\"我国光刻机发展怎么样了？\",\"link\":\"https:\\/\\/www.zhihu.com\\/question\\/355944411\",\"other\":\"43 万热度\"},{\"title\":\"东部战区海军航空兵某轰炸机团展开持续近 6 小时的夜战训练，有哪些信息值得关注？\",\"link\":\"https:\\/\\/www.zhihu.com\\/question\\/535713420\",\"other\":\"40 万热度\"},{\"title\":\"为什么《老友记》里租着房子结婚再正常不过，在国内却不行？\",\"link\":\"https:\\/\\/www.zhihu.com\\/question\\/57006572\",\"other\":\"38 万热度\"},{\"title\":\"如何评价周深和张韶涵的合作舞台《一路生花》？\",\"link\":\"https:\\/\\/www.zhihu.com\\/question\\/535939693\",\"other\":\"26 万热度\"},{\"title\":\"如何看待搜狐 CEO 张朝阳称「所谓荣华富贵不是人过的日子，我们要尽我们的义务完成我们的责任」？\",\"link\":\"https:\\/\\/www.zhihu.com\\/question\\/535558903\",\"other\":\"25 万热度\"},{\"title\":\"如何看待拜登称考虑以低于市场价的价格购买俄罗斯石油，俄总统新闻秘书表示俄不会亏本卖石油？\",\"link\":\"https:\\/\\/www.zhihu.com\\/question\\/535870972\",\"other\":\"6 万热度\"},{\"title\":\"被保护得太好的人是怎样的？\",\"link\":\"https:\\/\\/www.zhihu.com\\/question\\/361237080\",\"other\":\"6 万热度\"},{\"title\":\"怎么看待俄军攻入北顿涅茨克市中心？\",\"link\":\"https:\\/\\/www.zhihu.com\\/question\\/535390737\",\"other\":\"6 万热度\"},{\"title\":\"朔尔茨表示「德国很快将拥有北约内的欧洲最大常规军队」，还有哪些信息值得关注？\",\"link\":\"https:\\/\\/www.zhihu.com\\/question\\/535609422\",\"other\":\"6 万热度\"},{\"title\":\"陪伴 14 年的 COO 雪莉·桑德伯格为什么会离职，会对 Meta 造成怎样的影响？\",\"link\":\"https:\\/\\/www.zhihu.com\\/question\\/535710755\",\"other\":\"6 万热度\"},{\"title\":\"被领导发现是水货怎么办？\",\"link\":\"https:\\/\\/www.zhihu.com\\/question\\/449779149\",\"other\":\"6 万热度\"},{\"title\":\"荣耀 CEO 赵明称「苹果在中国高端机还是一家独大」, 具体情况如何？还有哪些信息值得关注？\",\"link\":\"https:\\/\\/www.zhihu.com\\/question\\/535444256\",\"other\":\"6 万热度\"},{\"title\":\"有哪些男生用的水乳值得推荐？\",\"link\":\"https:\\/\\/www.zhihu.com\\/question\\/336854160\",\"other\":\"6 万热度\"},{\"title\":\"为什么看完《霸王别姬》之后感觉特别压抑？\",\"link\":\"https:\\/\\/www.zhihu.com\\/question\\/393966198\",\"other\":\"6 万热度\"},{\"title\":\"如何评价《原神》角色夜兰和八重神子的差距?\",\"link\":\"https:\\/\\/www.zhihu.com\\/question\\/535648157\",\"other\":\"6 万热度\"},{\"title\":\"欧盟正式批准第六轮对俄制裁，这将带来哪些影响？\",\"link\":\"https:\\/\\/www.zhihu.com\\/question\\/535808422\",\"other\":\"6 万热度\"},{\"title\":\"对于你来说，你沉迷《王者荣耀》吗？\",\"link\":\"https:\\/\\/www.zhihu.com\\/question\\/529446173\",\"other\":\"6 万热度\"},{\"title\":\"如何评价《开始推理吧》第一期？\",\"link\":\"https:\\/\\/www.zhihu.com\\/question\\/535918663\",\"other\":\"6 万热度\"},{\"title\":\"如何评价《原神》2.7 版本魈的剧情？\",\"link\":\"https:\\/\\/www.zhihu.com\\/question\\/535748054\",\"other\":\"6 万热度\"},{\"title\":\"如何评价漫画《一人之下》578（615）话?\",\"link\":\"https:\\/\\/www.zhihu.com\\/question\\/535820274\",\"other\":\"6 万热度\"},{\"title\":\"英语六级仔细阅读总是错很多怎么办？\",\"link\":\"https:\\/\\/www.zhihu.com\\/question\\/60195567\",\"other\":\"6 万热度\"},{\"title\":\"湖人官方宣布正式聘用达尔文 - 哈姆担任球队主教练，你对他在湖人的执教有哪些期待？\",\"link\":\"https:\\/\\/www.zhihu.com\\/question\\/534956111\",\"other\":\"6 万热度\"},{\"title\":\"6 月 3 日上海新增本土新冠确诊 5 例、本土无症状 9 例，目前疫情情况如何？\",\"link\":\"https:\\/\\/www.zhihu.com\\/question\\/535999860\",\"other\":\"6 万热度\"},{\"title\":\"乌方称「目前没任何理由继续谈判，在国际伙伴承诺下，可通过获得足够数量武器加强自己」，透露了哪些信息？\",\"link\":\"https:\\/\\/www.zhihu.com\\/question\\/535999490\",\"other\":\"6 万热度\"},{\"title\":\"合群重要还是自己开心重要？\",\"link\":\"https:\\/\\/www.zhihu.com\\/question\\/533968307\",\"other\":\"6 万热度\"},{\"title\":\"欧国联法国 1:2 遭丹麦逆转绝杀，本泽马破门姆巴佩伤退，如何评价这场比赛？\",\"link\":\"https:\\/\\/www.zhihu.com\\/question\\/535998975\",\"other\":\"6 万热度\"},{\"title\":\"6 月 4 日凌晨世界女排联赛中国队 3:1 战胜土耳其队取得两连胜，如何评价本场比赛？\",\"link\":\"https:\\/\\/www.zhihu.com\\/question\\/535993675\",\"other\":\"6 万热度\"},{\"title\":\"电影《超脱》里的悲伤从何而来?\",\"link\":\"https:\\/\\/www.zhihu.com\\/question\\/28247244\",\"other\":\"6 万热度\"},{\"title\":\"6 月 3 日台湾新增本土确诊病例 76517 例，新增死亡病例 142 例，目前当地疫情形势如何？\",\"link\":\"https:\\/\\/www.zhihu.com\\/question\\/535900191\",\"other\":\"6 万热度\"},{\"title\":\"如何看待拜登宣布将为乌克兰提供海马斯高机动火箭炮系统，布林肯称乌克兰保证不用美国提供的武器打击俄领土？\",\"link\":\"https:\\/\\/www.zhihu.com\\/question\\/535719729\",\"other\":\"6 万热度\"}]},\"time\":1654307701,\"log_id\":391528636341096448}\n"
     ]
    }
   ],
   "source": [
    "print(response.text)"
   ]
  }
 ],
 "metadata": {
  "interpreter": {
   "hash": "5179d32cf6ec497baf3f8a3ef987cc77c5d2dc691fdde20a56316522f61a7323"
  },
  "kernelspec": {
   "display_name": "Python 3.8.8 ('base')",
   "language": "python",
   "name": "python3"
  },
  "language_info": {
   "codemirror_mode": {
    "name": "ipython",
    "version": 3
   },
   "file_extension": ".py",
   "mimetype": "text/x-python",
   "name": "python",
   "nbconvert_exporter": "python",
   "pygments_lexer": "ipython3",
   "version": "3.8.8"
  },
  "orig_nbformat": 4
 },
 "nbformat": 4,
 "nbformat_minor": 2
}
