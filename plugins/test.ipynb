{
 "cells": [
  {
   "cell_type": "code",
   "execution_count": null,
   "metadata": {},
   "outputs": [],
   "source": [
    "import requests\n",
    "\n",
    "re = requests.get('http://api.wadg.pro/')\n",
    "\n",
    "print(re.status_code)\n",
    "print(re.text)"
   ]
  },
  {
   "cell_type": "code",
   "execution_count": 4,
   "metadata": {},
   "outputs": [],
   "source": [
    "import requests\n",
    "def updateExpireTime():\n",
    "    '''\n",
    "    延长token时间\n",
    "    '''\n",
    "    url = \"https://api.ityun.tech/api/updateExpireTime?token=e2d74a2b83b549248421dedd7e293e13&email=alinjiong@qq.com\"\n",
    "    headers = {'Content-Type': \"application/json\"}\n",
    "    res = requests.post(\n",
    "        url=url, headers=headers)\n",
    "    return res\n",
    "    \n",
    "res = updateExpireTime()\n"
   ]
  },
  {
   "cell_type": "code",
   "execution_count": 7,
   "metadata": {},
   "outputs": [
    {
     "name": "stdout",
     "output_type": "stream",
     "text": [
      "<Response [200]>\n",
      "{\"date\":\"2022-05-27T15:16:20.136+00:00\",\"code\":400,\"message\":\"有效期剩余大于30天，无法续期！\"}\n",
      "200\n"
     ]
    }
   ],
   "source": [
    "print(res)\n",
    "print(res.text)\n",
    "print(res.status_code)"
   ]
  },
  {
   "cell_type": "code",
   "execution_count": 5,
   "metadata": {},
   "outputs": [
    {
     "name": "stdout",
     "output_type": "stream",
     "text": [
      "ok\n"
     ]
    }
   ],
   "source": [
    "import re\n",
    "\n",
    "\n",
    "setuPattern = \"来(.*?)[点丶、个份张幅](.*?)的?([rR]18)?[色瑟涩䔼😍🐍][图圖🤮]|二[次刺][元猿]\"\n",
    "\n",
    "if re.match(setuPattern,\"二刺猿\"):\n",
    "    print(\"ok\")"
   ]
  },
  {
   "cell_type": "code",
   "execution_count": 10,
   "metadata": {},
   "outputs": [
    {
     "name": "stdout",
     "output_type": "stream",
     "text": [
      "{\n",
      "    \"data\": 200,\n",
      "    \"list\": [\n",
      "        {\n",
      "            \"name\": \"唱作人陈道明去世\",\n",
      "            \"hot\": 3936600,\n",
      "            \"url\": \"https://s.weibo.com/weibo?q=%23%E5%94%B1%E4%BD%9C%E4%BA%BA%E9%99%88%E9%81%93%E6%98%8E%E5%8E%BB%E4%B8%96%23&Refer=index\"\n",
      "        },\n",
      "        {\n",
      "            \"name\": \"反诈老陈致歉\",\n",
      "            \"hot\": 1926385,\n",
      "            \"url\": \"https://s.weibo.com/weibo?q=%23%E5%8F%8D%E8%AF%88%E8%80%81%E9%99%88%E8%87%B4%E6%AD%89%23&Refer=index\"\n",
      "        },\n",
      "        {\n",
      "            \"name\": \"属于毕业的BGM\",\n",
      "            \"hot\": 1496288,\n",
      "            \"url\": \"https://s.weibo.com/weibo?q=%23%E5%B1%9E%E4%BA%8E%E6%AF%95%E4%B8%9A%E7%9A%84BGM%23&Refer=index\"\n",
      "        },\n",
      "        {\n",
      "            \"name\": \"德普胜诉\",\n",
      "            \"hot\": 1426623,\n",
      "            \"url\": \"https://s.weibo.com/weibo?q=%23%E5%BE%B7%E6%99%AE%E8%83%9C%E8%AF%89%23&Refer=index\"\n",
      "        },\n",
      "        {\n",
      "            \"name\": \"上海新增本土确诊5例无症状8例\",\n",
      "            \"hot\": 1074793,\n",
      "            \"url\": \"https://s.weibo.com/weibo?q=%23%E4%B8%8A%E6%B5%B7%E6%96%B0%E5%A2%9E%E6%9C%AC%E5%9C%9F%E7%A1%AE%E8%AF%8A5%E4%BE%8B%E6%97%A0%E7%97%87%E7%8A%B68%E4%BE%8B%23&Refer=index\"\n",
      "        },\n",
      "        {\n",
      "            \"name\": \"RNG\",\n",
      "            \"hot\": 862651,\n",
      "            \"url\": \"https://s.weibo.com/weibo?q=%23RNG%23&Refer=index\"\n",
      "        },\n",
      "        {\n",
      "            \"name\": \"中国女排战胜荷兰女排\",\n",
      "            \"hot\": 672361,\n",
      "            \"url\": \"https://s.weibo.com/weibo?q=%23%E4%B8%AD%E5%9B%BD%E5%A5%B3%E6%8E%92%E6%88%98%E8%83%9C%E8%8D%B7%E5%85%B0%E5%A5%B3%E6%8E%92%23&Refer=index\"\n",
      "        },\n",
      "        {\n",
      "            \"name\": \"老师带网瘾少年去妈妈工地搬钢筋\",\n",
      "            \"hot\": 660760,\n",
      "            \"url\": \"https://s.weibo.com/weibo?q=%23%E8%80%81%E5%B8%88%E5%B8%A6%E7%BD%91%E7%98%BE%E5%B0%91%E5%B9%B4%E5%8E%BB%E5%A6%88%E5%A6%88%E5%B7%A5%E5%9C%B0%E6%90%AC%E9%92%A2%E7%AD%8B%23&Refer=index\"\n",
      "        },\n",
      "        {\n",
      "            \"name\": \"梦华录\",\n",
      "            \"hot\": 633432,\n",
      "            \"url\": \"https://s.weibo.com/weibo?q=%23%E6%A2%A6%E5%8D%8E%E5%BD%95%23&Refer=index\"\n",
      "        },\n",
      "        {\n",
      "            \"name\": \"芦山地震\",\n",
      "            \"hot\": 626870,\n",
      "            \"url\": \"https://s.weibo.com/weibo?q=%23%E8%8A%A6%E5%B1%B1%E5%9C%B0%E9%9C%87%23&Refer=index\"\n",
      "        }\n",
      "    ]\n",
      "}\n"
     ]
    }
   ],
   "source": [
    "import requests\n",
    "\n",
    "\n",
    "url = \"https://tenapi.cn/resou/\"\n",
    "\n",
    "r = requests.get(url='https://tenapi.cn/resou/', timeout=10)\n",
    "print(r.text)\n"
   ]
  }
 ],
 "metadata": {
  "interpreter": {
   "hash": "5179d32cf6ec497baf3f8a3ef987cc77c5d2dc691fdde20a56316522f61a7323"
  },
  "kernelspec": {
   "display_name": "Python 3.8.8 ('base')",
   "language": "python",
   "name": "python3"
  },
  "language_info": {
   "codemirror_mode": {
    "name": "ipython",
    "version": 3
   },
   "file_extension": ".py",
   "mimetype": "text/x-python",
   "name": "python",
   "nbconvert_exporter": "python",
   "pygments_lexer": "ipython3",
   "version": "3.8.8"
  },
  "orig_nbformat": 4
 },
 "nbformat": 4,
 "nbformat_minor": 2
}
