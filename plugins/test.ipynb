{
 "cells": [
  {
   "cell_type": "code",
   "execution_count": null,
   "metadata": {},
   "outputs": [],
   "source": [
    "import requests\n",
    "\n",
    "re = requests.get('http://api.wadg.pro/')\n",
    "\n",
    "print(re.status_code)\n",
    "print(re.text)"
   ]
  },
  {
   "cell_type": "code",
   "execution_count": 4,
   "metadata": {},
   "outputs": [],
   "source": [
    "import requests\n",
    "def updateExpireTime():\n",
    "    '''\n",
    "    延长token时间\n",
    "    '''\n",
    "    url = \"https://api.ityun.tech/api/updateExpireTime?token=e2d74a2b83b549248421dedd7e293e13&email=alinjiong@qq.com\"\n",
    "    headers = {'Content-Type': \"application/json\"}\n",
    "    res = requests.post(\n",
    "        url=url, headers=headers)\n",
    "    return res\n",
    "    \n",
    "res = updateExpireTime()\n"
   ]
  },
  {
   "cell_type": "code",
   "execution_count": 7,
   "metadata": {},
   "outputs": [
    {
     "name": "stdout",
     "output_type": "stream",
     "text": [
      "<Response [200]>\n",
      "{\"date\":\"2022-05-27T15:16:20.136+00:00\",\"code\":400,\"message\":\"有效期剩余大于30天，无法续期！\"}\n",
      "200\n"
     ]
    }
   ],
   "source": [
    "print(res)\n",
    "print(res.text)\n",
    "print(res.status_code)"
   ]
  },
  {
   "cell_type": "code",
   "execution_count": 4,
   "metadata": {},
   "outputs": [
    {
     "name": "stdout",
     "output_type": "stream",
     "text": [
      "ok\n"
     ]
    }
   ],
   "source": [
    "import re\n",
    "\n",
    "\n",
    "setuPattern = \"来(.*?)[点丶、个份张幅](.*?)的?([rR]18)?[色瑟涩䔼😍🐍][图圖🤮]|二[次刺][元猿]\"\n",
    "\n",
    "if re.match(setuPattern,\"二刺猿\"):\n",
    "    print(\"ok\")"
   ]
  }
 ],
 "metadata": {
  "interpreter": {
   "hash": "5179d32cf6ec497baf3f8a3ef987cc77c5d2dc691fdde20a56316522f61a7323"
  },
  "kernelspec": {
   "display_name": "Python 3.8.8 ('base')",
   "language": "python",
   "name": "python3"
  },
  "language_info": {
   "codemirror_mode": {
    "name": "ipython",
    "version": 3
   },
   "file_extension": ".py",
   "mimetype": "text/x-python",
   "name": "python",
   "nbconvert_exporter": "python",
   "pygments_lexer": "ipython3",
   "version": "3.8.8"
  },
  "orig_nbformat": 4
 },
 "nbformat": 4,
 "nbformat_minor": 2
}
